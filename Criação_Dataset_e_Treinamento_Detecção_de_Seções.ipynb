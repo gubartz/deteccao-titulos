{
  "nbformat": 4,
  "nbformat_minor": 0,
  "metadata": {
    "colab": {
      "name": "Criação Dataset e Treinamento - Detecção de Seções.ipynb",
      "provenance": [],
      "collapsed_sections": [],
      "toc_visible": true
    },
    "kernelspec": {
      "name": "python3",
      "display_name": "Python 3"
    },
    "language_info": {
      "name": "python"
    }
  },
  "cells": [
    {
      "cell_type": "markdown",
      "metadata": {
        "id": "w2qAdX_Qbkkp"
      },
      "source": [
        "# Introdução\n",
        "\n",
        "Este notebook contém o código para gerar o dataset e para treinar um classificador de detecção de seções.\n",
        "Os dados foram extraídos da base [GROTOAP2](https://www.dlib.org/dlib/november14/tkaczyk/11tkaczyk.html)."
      ]
    },
    {
      "cell_type": "markdown",
      "metadata": {
        "id": "0R7DfGgmeayO"
      },
      "source": [
        "# Setup"
      ]
    },
    {
      "cell_type": "markdown",
      "metadata": {
        "id": "RgUGmUC1ejGF"
      },
      "source": [
        "## Google Drive"
      ]
    },
    {
      "cell_type": "code",
      "metadata": {
        "colab": {
          "base_uri": "https://localhost:8080/"
        },
        "id": "AEPPGmiBekKd",
        "outputId": "361c94fb-f43c-4052-b961-f9eb5e7223c8"
      },
      "source": [
        "from google.colab import drive\n",
        "drive.mount('/content/gdrive')"
      ],
      "execution_count": null,
      "outputs": [
        {
          "output_type": "stream",
          "name": "stdout",
          "text": [
            "Mounted at /content/gdrive\n"
          ]
        }
      ]
    },
    {
      "cell_type": "markdown",
      "metadata": {
        "id": "J6KQqT6wivO1"
      },
      "source": [
        "# Imports"
      ]
    },
    {
      "cell_type": "code",
      "metadata": {
        "id": "CNVGq7r3ecdO"
      },
      "source": [
        "BASE_GROTOAP2_DIR = './gdrive/MyDrive/Colab Notebooks/doutorado/dataset/grotoa_section_detection/'"
      ],
      "execution_count": null,
      "outputs": []
    },
    {
      "cell_type": "code",
      "metadata": {
        "id": "bKZClJLycmfR"
      },
      "source": [
        "import pandas as pd\n",
        "import numpy as np"
      ],
      "execution_count": null,
      "outputs": []
    },
    {
      "cell_type": "markdown",
      "metadata": {
        "id": "mcv7Z8heixsO"
      },
      "source": [
        "# Concatenação dos dataframes"
      ]
    },
    {
      "cell_type": "code",
      "metadata": {
        "colab": {
          "base_uri": "https://localhost:8080/"
        },
        "id": "b1ncQZ6AmwO8",
        "outputId": "a101acff-ebeb-42c3-9ab0-26b2bc3f978d"
      },
      "source": [
        "!unzip './gdrive/MyDrive/Colab Notebooks/doutorado/dataset/grotoa_section_detection/section_detection.zip'\n",
        "!mv *.csv './gdrive/MyDrive/Colab Notebooks/doutorado/dataset/grotoa_section_detection'"
      ],
      "execution_count": null,
      "outputs": [
        {
          "output_type": "stream",
          "name": "stdout",
          "text": [
            "Archive:  ./gdrive/MyDrive/Colab Notebooks/doutorado/dataset/grotoa_section_detection/section_detection.zip\n",
            "  inflating: output0.csv             \n",
            "  inflating: output1.csv             \n",
            "  inflating: output10.csv            \n",
            "  inflating: output11.csv            \n",
            "  inflating: output12.csv            \n",
            "  inflating: output2.csv             \n",
            "  inflating: output3.csv             \n",
            "  inflating: output4.csv             \n",
            "  inflating: output5.csv             \n",
            "  inflating: output6.csv             \n",
            "  inflating: output7.csv             \n",
            "  inflating: output8.csv             \n",
            "  inflating: output9.csv             \n"
          ]
        }
      ]
    },
    {
      "cell_type": "code",
      "metadata": {
        "id": "0K-ahI3_8QLa"
      },
      "source": [
        "df_output0 = pd.read_csv(BASE_GROTOAP2_DIR + 'output0.csv', sep=\"\\t\", encoding='utf-8')"
      ],
      "execution_count": null,
      "outputs": []
    },
    {
      "cell_type": "code",
      "metadata": {
        "colab": {
          "base_uri": "https://localhost:8080/"
        },
        "id": "drpNuvtr85eC",
        "outputId": "b09e34ca-bb3a-43c5-a3f6-dd17a7c024c4"
      },
      "source": [
        "df_output0.columns"
      ],
      "execution_count": null,
      "outputs": [
        {
          "output_type": "execute_result",
          "data": {
            "text/plain": [
              "Index(['has_most_frequent_font', 'font_magnitude', 'font_variety',\n",
              "       'is_roman_number_prefixed', 'above_font_threshold', 'word_count',\n",
              "       'char_count', 'first_capitalized', 'all_words_capitalized',\n",
              "       'all_italic', 'all_bold', 'number_prefixed', 'number_count',\n",
              "       'font_size', 'abs_left', 'has_punctuation', 'abs_top', 'text', 'pmc_id',\n",
              "       'file_name', 'heading', 'line_idx', 'original_title'],\n",
              "      dtype='object')"
            ]
          },
          "metadata": {},
          "execution_count": 35
        }
      ]
    },
    {
      "cell_type": "code",
      "metadata": {
        "id": "y5CbvM7_8cBQ"
      },
      "source": [
        "columns_dtype = {x: str(y) for x, y in df_output0.dtypes.items()}"
      ],
      "execution_count": null,
      "outputs": []
    },
    {
      "cell_type": "code",
      "metadata": {
        "id": "CV1gxQU-hVum"
      },
      "source": [
        "list_files = ['output' + str(i) + '.csv' for i in range(13)]"
      ],
      "execution_count": null,
      "outputs": []
    },
    {
      "cell_type": "code",
      "metadata": {
        "id": "AoSZVIvnhsUj"
      },
      "source": [
        "frames = []\n",
        "for file in list_files:\n",
        "    frames.append(pd.read_csv(BASE_GROTOAP2_DIR + file, sep=\"\\t\", encoding='utf-8', dtype=columns_dtype))"
      ],
      "execution_count": null,
      "outputs": []
    },
    {
      "cell_type": "code",
      "metadata": {
        "id": "yEe1RiKHnZeC"
      },
      "source": [
        "result = pd.concat(frames)"
      ],
      "execution_count": null,
      "outputs": []
    },
    {
      "cell_type": "code",
      "metadata": {
        "id": "-OuvKlGHiI14"
      },
      "source": [
        "result.to_csv(BASE_GROTOAP2_DIR + 'dataset_original.tsv', encoding='utf-8', index=False, sep=\"\\t\")"
      ],
      "execution_count": null,
      "outputs": []
    },
    {
      "cell_type": "code",
      "metadata": {
        "colab": {
          "base_uri": "https://localhost:8080/"
        },
        "id": "iey5l_rR-SYi",
        "outputId": "a5b32549-c015-4e41-bd75-6e663f544294"
      },
      "source": [
        "result.columns"
      ],
      "execution_count": null,
      "outputs": [
        {
          "output_type": "execute_result",
          "data": {
            "text/plain": [
              "Index(['has_most_frequent_font', 'font_magnitude', 'font_variety',\n",
              "       'is_roman_number_prefixed', 'above_font_threshold', 'word_count',\n",
              "       'char_count', 'first_capitalized', 'all_words_capitalized',\n",
              "       'all_italic', 'all_bold', 'number_prefixed', 'number_count',\n",
              "       'font_size', 'abs_left', 'has_punctuation', 'abs_top', 'text', 'pmc_id',\n",
              "       'file_name', 'heading', 'line_idx', 'original_title'],\n",
              "      dtype='object')"
            ]
          },
          "metadata": {},
          "execution_count": 43
        }
      ]
    },
    {
      "cell_type": "code",
      "metadata": {
        "id": "rSv70fOLnOQ9"
      },
      "source": [
        "del frames\n",
        "del result"
      ],
      "execution_count": null,
      "outputs": []
    },
    {
      "cell_type": "markdown",
      "metadata": {
        "id": "j3_qiaCqkSuG"
      },
      "source": [
        "# Verificação do Dataset"
      ]
    },
    {
      "cell_type": "code",
      "metadata": {
        "id": "NnvHh84YkYQF"
      },
      "source": [
        "df_original = pd.read_csv(BASE_GROTOAP2_DIR + 'dataset_original.tsv', sep=\"\\t\", encoding='utf-8', dtype=columns_dtype)"
      ],
      "execution_count": null,
      "outputs": []
    },
    {
      "cell_type": "code",
      "metadata": {
        "colab": {
          "base_uri": "https://localhost:8080/"
        },
        "id": "GdqSgxDUvmB2",
        "outputId": "4dfcf2c2-650c-47f1-8c29-12631e017a9e"
      },
      "source": [
        "df_original.columns"
      ],
      "execution_count": null,
      "outputs": [
        {
          "output_type": "execute_result",
          "data": {
            "text/plain": [
              "Index(['has_most_frequent_font', 'font_magnitude', 'font_variety',\n",
              "       'is_roman_number_prefixed', 'above_font_threshold', 'word_count',\n",
              "       'char_count', 'first_capitalized', 'all_words_capitalized',\n",
              "       'all_italic', 'all_bold', 'number_prefixed', 'number_count',\n",
              "       'font_size', 'abs_left', 'has_punctuation', 'abs_top', 'text', 'pmc_id',\n",
              "       'file_name', 'heading', 'line_idx', 'original_title'],\n",
              "      dtype='object')"
            ]
          },
          "metadata": {},
          "execution_count": 46
        }
      ]
    },
    {
      "cell_type": "markdown",
      "metadata": {
        "id": "qI7X7H_PkE8p"
      },
      "source": [
        "Total de artigos"
      ]
    },
    {
      "cell_type": "code",
      "metadata": {
        "colab": {
          "base_uri": "https://localhost:8080/"
        },
        "id": "JPD1CRy_odqZ",
        "outputId": "3f23fa70-8706-4840-c726-d3eef4aeb106"
      },
      "source": [
        "df_original.pmc_id.nunique()"
      ],
      "execution_count": null,
      "outputs": [
        {
          "output_type": "execute_result",
          "data": {
            "text/plain": [
              "12934"
            ]
          },
          "metadata": {},
          "execution_count": 47
        }
      ]
    },
    {
      "cell_type": "code",
      "metadata": {
        "id": "IUfoRoZtwM8z"
      },
      "source": [
        "df_grotoa = pd.read_csv(BASE_GROTOAP2_DIR + 'sections_grotoa_2021_06_16_16_56_18.tsv', sep=\"\\t\", encoding='utf-8')"
      ],
      "execution_count": null,
      "outputs": []
    },
    {
      "cell_type": "code",
      "metadata": {
        "colab": {
          "base_uri": "https://localhost:8080/"
        },
        "id": "T5a6Gbb2wS2p",
        "outputId": "5ffcc444-91e1-41ea-d60e-0c0262f85162"
      },
      "source": [
        "df_grotoa.pmc_id.nunique()"
      ],
      "execution_count": null,
      "outputs": [
        {
          "output_type": "execute_result",
          "data": {
            "text/plain": [
              "12934"
            ]
          },
          "metadata": {},
          "execution_count": 49
        }
      ]
    },
    {
      "cell_type": "code",
      "metadata": {
        "colab": {
          "base_uri": "https://localhost:8080/"
        },
        "id": "T2GjfJK1pcE7",
        "outputId": "36172295-1ba9-47e3-b6f9-e19fbeb16340"
      },
      "source": [
        "A = set(df_grotoa.pmc_id.unique())\n",
        "B = set(df_original.pmc_id.unique())\n",
        "A - B"
      ],
      "execution_count": null,
      "outputs": [
        {
          "output_type": "execute_result",
          "data": {
            "text/plain": [
              "set()"
            ]
          },
          "metadata": {},
          "execution_count": 50
        }
      ]
    },
    {
      "cell_type": "markdown",
      "metadata": {
        "id": "Sx2Ut9-bC5Pw"
      },
      "source": [
        "## Títulos nxml"
      ]
    },
    {
      "cell_type": "code",
      "metadata": {
        "colab": {
          "base_uri": "https://localhost:8080/"
        },
        "id": "TeAzXG96BCIA",
        "outputId": "049530c0-1d33-49f3-e28f-c21077227ad1"
      },
      "source": [
        "print(f'Total de Títulos encontrados nos nxml: {len(df_grotoa.index):,.0f}')"
      ],
      "execution_count": null,
      "outputs": [
        {
          "output_type": "stream",
          "name": "stdout",
          "text": [
            "Total de Títulos encontrados nos nxml: 176,077\n"
          ]
        }
      ]
    },
    {
      "cell_type": "markdown",
      "metadata": {
        "id": "SOaM32YcC8LQ"
      },
      "source": [
        "## Dataset Original"
      ]
    },
    {
      "cell_type": "code",
      "metadata": {
        "colab": {
          "base_uri": "https://localhost:8080/"
        },
        "id": "3CTn1M52BO8f",
        "outputId": "2149b89d-dffd-4a3a-9f0e-bbf6a50b8cb7"
      },
      "source": [
        "print(f'Total de Amostras nos dados originais: {len(df_original.index):,.0f}')"
      ],
      "execution_count": null,
      "outputs": [
        {
          "output_type": "stream",
          "name": "stdout",
          "text": [
            "Total de Amostras nos dados originais: 11,955,640\n"
          ]
        }
      ]
    },
    {
      "cell_type": "markdown",
      "metadata": {
        "id": "twHyhKAeA92B"
      },
      "source": [
        "# Tratamento nos dados"
      ]
    },
    {
      "cell_type": "markdown",
      "metadata": {
        "id": "oDyQq_0QC2nj"
      },
      "source": [
        "### Remoção de Duplicatas"
      ]
    },
    {
      "cell_type": "code",
      "metadata": {
        "colab": {
          "base_uri": "https://localhost:8080/"
        },
        "id": "TDVez4jnC4pl",
        "outputId": "37c2fae1-fd6c-4424-8b9b-96c404a5df3f"
      },
      "source": [
        "df_original = df_original.drop_duplicates(keep='first')\n",
        "print(f'{len(df_original.index):,.0f}')"
      ],
      "execution_count": null,
      "outputs": [
        {
          "output_type": "stream",
          "name": "stdout",
          "text": [
            "11,749,690\n"
          ]
        }
      ]
    },
    {
      "cell_type": "markdown",
      "metadata": {
        "id": "EjM9jvkiH17A"
      },
      "source": [
        "### Manter apenas textos válidos"
      ]
    },
    {
      "cell_type": "code",
      "metadata": {
        "colab": {
          "base_uri": "https://localhost:8080/"
        },
        "id": "FV34gJqBEi2P",
        "outputId": "7041c092-c077-47d2-9016-870b8b01131b"
      },
      "source": [
        "df_original = df_original[~df_original['text'].isnull()]\n",
        "print(f'{len(df_original.index):,.0f}')"
      ],
      "execution_count": null,
      "outputs": [
        {
          "output_type": "stream",
          "name": "stdout",
          "text": [
            "11,596,996\n"
          ]
        }
      ]
    },
    {
      "cell_type": "code",
      "metadata": {
        "colab": {
          "base_uri": "https://localhost:8080/"
        },
        "id": "F6GtIoHuIF53",
        "outputId": "926a689e-bee9-49b5-af2e-6b8b00d0f15a"
      },
      "source": [
        "df_original = df_original[df_original['text'] != '']\n",
        "print(f'{len(df_original.index):,.0f}')"
      ],
      "execution_count": null,
      "outputs": [
        {
          "output_type": "stream",
          "name": "stdout",
          "text": [
            "11,596,996\n"
          ]
        }
      ]
    },
    {
      "cell_type": "markdown",
      "metadata": {
        "id": "W4iNjRxJIRjg"
      },
      "source": [
        "# Geração Dataset Final"
      ]
    },
    {
      "cell_type": "code",
      "metadata": {
        "id": "zHeZyINQITIv"
      },
      "source": [
        "df_grotoa_count_sections = df_grotoa.groupby(['pmc_id']).size().reset_index(name='counts')"
      ],
      "execution_count": null,
      "outputs": []
    },
    {
      "cell_type": "code",
      "metadata": {
        "id": "Mpy6H31fJwZM"
      },
      "source": [
        "df_original_is_section = df_original[(df_original['heading'] == 1) & (df_original['line_idx'] == 1)]"
      ],
      "execution_count": null,
      "outputs": []
    },
    {
      "cell_type": "code",
      "metadata": {
        "id": "3aJuROlNJ9sR"
      },
      "source": [
        "df_original_count_sections = df_original_is_section.groupby(['pmc_id']).size().reset_index(name='counts')"
      ],
      "execution_count": null,
      "outputs": []
    },
    {
      "cell_type": "code",
      "metadata": {
        "id": "-7AoGxGbKJlO"
      },
      "source": [
        "df_merge = pd.merge(df_grotoa_count_sections, df_original_count_sections, on='pmc_id')"
      ],
      "execution_count": null,
      "outputs": []
    },
    {
      "cell_type": "code",
      "metadata": {
        "id": "IZQBgV04KyN7"
      },
      "source": [
        "file_list = df_merge[(df_merge['counts_x'] == df_merge['counts_y'])]['pmc_id'].values"
      ],
      "execution_count": null,
      "outputs": []
    },
    {
      "cell_type": "code",
      "metadata": {
        "colab": {
          "base_uri": "https://localhost:8080/"
        },
        "id": "I236-hJvOHUf",
        "outputId": "f47ff686-4adc-4a70-c7bd-c309be42e30a"
      },
      "source": [
        "df_original = df_original[df_original['pmc_id'].isin(file_list)]\n",
        "print(f'{len(df_original.index):,.0f}')"
      ],
      "execution_count": null,
      "outputs": [
        {
          "output_type": "stream",
          "name": "stdout",
          "text": [
            "5,284,792\n"
          ]
        }
      ]
    },
    {
      "cell_type": "code",
      "metadata": {
        "id": "w623JdWy2rUo"
      },
      "source": [
        "del df_grotoa_count_sections\n",
        "del df_original_is_section\n",
        "del df_original_count_sections\n",
        "del df_merge"
      ],
      "execution_count": null,
      "outputs": []
    },
    {
      "cell_type": "markdown",
      "metadata": {
        "id": "NR0F383Bmn_2"
      },
      "source": [
        "## Sqlite\n",
        "Remoção dos itens com conflitos"
      ]
    },
    {
      "cell_type": "code",
      "metadata": {
        "colab": {
          "base_uri": "https://localhost:8080/"
        },
        "id": "lOSHwhvG_Zvj",
        "outputId": "cac2e5dd-a440-4051-e1ef-edf767f557a3"
      },
      "source": [
        "df_original.columns"
      ],
      "execution_count": null,
      "outputs": [
        {
          "output_type": "execute_result",
          "data": {
            "text/plain": [
              "Index(['has_most_frequent_font', 'font_magnitude', 'font_variety',\n",
              "       'is_roman_number_prefixed', 'above_font_threshold', 'word_count',\n",
              "       'char_count', 'first_capitalized', 'all_words_capitalized',\n",
              "       'all_italic', 'all_bold', 'number_prefixed', 'number_count',\n",
              "       'font_size', 'abs_left', 'has_punctuation', 'abs_top', 'text', 'pmc_id',\n",
              "       'file_name', 'heading', 'line_idx', 'original_title'],\n",
              "      dtype='object')"
            ]
          },
          "metadata": {},
          "execution_count": 63
        }
      ]
    },
    {
      "cell_type": "code",
      "metadata": {
        "colab": {
          "base_uri": "https://localhost:8080/"
        },
        "id": "s4RXfKfu_bUd",
        "outputId": "3f666467-8760-425c-e4d8-e265177c194b"
      },
      "source": [
        "df_original.dtypes"
      ],
      "execution_count": null,
      "outputs": [
        {
          "output_type": "execute_result",
          "data": {
            "text/plain": [
              "has_most_frequent_font        int64\n",
              "font_magnitude                int64\n",
              "font_variety                  int64\n",
              "is_roman_number_prefixed      int64\n",
              "above_font_threshold          int64\n",
              "word_count                    int64\n",
              "char_count                    int64\n",
              "first_capitalized             int64\n",
              "all_words_capitalized         int64\n",
              "all_italic                    int64\n",
              "all_bold                      int64\n",
              "number_prefixed               int64\n",
              "number_count                  int64\n",
              "font_size                   float64\n",
              "abs_left                    float64\n",
              "has_punctuation               int64\n",
              "abs_top                     float64\n",
              "text                         object\n",
              "pmc_id                       object\n",
              "file_name                    object\n",
              "heading                       int64\n",
              "line_idx                      int64\n",
              "original_title               object\n",
              "dtype: object"
            ]
          },
          "metadata": {},
          "execution_count": 64
        }
      ]
    },
    {
      "cell_type": "code",
      "metadata": {
        "id": "LbcA4K12mpUM"
      },
      "source": [
        "import sqlite3\n",
        "\n",
        "conn = sqlite3.connect('test.db')\n",
        "\n",
        "conn.execute('''\n",
        "CREATE TABLE IF NOT EXISTS dataset(\n",
        " has_most_frequent_font      real,\n",
        "font_magnitude                int,\n",
        "font_variety                  int,\n",
        "is_roman_number_prefixed      int,\n",
        "above_font_threshold          int,\n",
        "word_count                    int,\n",
        "char_count                    int,\n",
        "first_capitalized             int,\n",
        "all_words_capitalized         int,\n",
        "all_italic                    int,\n",
        "all_bold                      int,\n",
        "number_prefixed               int,\n",
        "number_count                  int,\n",
        "font_size                   real,\n",
        "abs_left                    real,\n",
        "has_punctuation               int,\n",
        "abs_top                     real,\n",
        "text                         text,\n",
        "pmc_id                       text,\n",
        "file_name                    text,\n",
        "heading                       int,\n",
        "line_idx                      int,\n",
        "original_title               text);''')\n",
        "\n",
        "conn.commit()\n",
        "conn.close()"
      ],
      "execution_count": null,
      "outputs": []
    },
    {
      "cell_type": "code",
      "metadata": {
        "id": "kj1L_aMrnk1K"
      },
      "source": [
        "output = df_original.itertuples(index=False)\n",
        "data = tuple(output)"
      ],
      "execution_count": null,
      "outputs": []
    },
    {
      "cell_type": "code",
      "metadata": {
        "id": "Iw3jhnlTo724"
      },
      "source": [
        "wildcards = ','.join(['?'] * 23)"
      ],
      "execution_count": null,
      "outputs": []
    },
    {
      "cell_type": "code",
      "metadata": {
        "id": "CA2CxSvZo_3J"
      },
      "source": [
        "insert_sql = 'INSERT INTO dataset VALUES (%s)' % wildcards"
      ],
      "execution_count": null,
      "outputs": []
    },
    {
      "cell_type": "code",
      "metadata": {
        "id": "8U8FV9aMpCtS"
      },
      "source": [
        "conn = sqlite3.connect('test.db')\n",
        "conn.executemany(insert_sql, data)\n",
        "conn.commit()\n",
        "conn.close()"
      ],
      "execution_count": null,
      "outputs": []
    },
    {
      "cell_type": "code",
      "metadata": {
        "id": "zQudX45n1exN"
      },
      "source": [
        "del df_original"
      ],
      "execution_count": null,
      "outputs": []
    },
    {
      "cell_type": "code",
      "metadata": {
        "id": "77QPcf-uqFgl"
      },
      "source": [
        "conn = sqlite3.connect('test.db')\n",
        "\n",
        "conn.execute('''CREATE TABLE problema AS SELECT above_font_threshold,\n",
        "         abs_left,\n",
        "         abs_top,\n",
        "         all_bold,\n",
        "         all_italic,\n",
        "         all_words_capitalized,\n",
        "         char_count,\n",
        "         first_capitalized,\n",
        "         font_magnitude,\n",
        "         font_size,\n",
        "         font_variety,\n",
        "         has_most_frequent_font,\n",
        "         has_punctuation,\n",
        "         is_roman_number_prefixed,\n",
        "         number_count,\n",
        "         number_prefixed,\n",
        "         word_count,\n",
        "         COUNT(DISTINCT heading)\n",
        "FROM dataset\n",
        "GROUP BY above_font_threshold,\n",
        "         abs_left,\n",
        "         abs_top,\n",
        "         all_bold,\n",
        "         all_italic,\n",
        "         all_words_capitalized,\n",
        "         char_count,\n",
        "         first_capitalized,\n",
        "         font_magnitude,\n",
        "         font_size,\n",
        "         font_variety,\n",
        "         has_most_frequent_font,\n",
        "         has_punctuation,\n",
        "         is_roman_number_prefixed,\n",
        "         number_count,\n",
        "         number_prefixed,\n",
        "         word_count\n",
        "HAVING COUNT(DISTINCT heading) > 1;''')\n",
        "conn.commit()\n",
        "conn.close()"
      ],
      "execution_count": null,
      "outputs": []
    },
    {
      "cell_type": "code",
      "metadata": {
        "id": "nizWAtX7woJg"
      },
      "source": [
        "conn = sqlite3.connect('test.db')\n",
        "\n",
        "conn.execute('''\n",
        "DELETE FROM dataset\n",
        "WHERE (above_font_threshold,\n",
        "         abs_left,\n",
        "         abs_top,\n",
        "         all_bold,\n",
        "         all_italic,\n",
        "         all_words_capitalized,\n",
        "         char_count,\n",
        "         first_capitalized,\n",
        "         font_magnitude,\n",
        "         font_size,\n",
        "         font_variety,\n",
        "         has_most_frequent_font,\n",
        "         has_punctuation,\n",
        "         is_roman_number_prefixed,\n",
        "         number_count,\n",
        "         number_prefixed,\n",
        "         word_count) IN (SELECT above_font_threshold,\n",
        "         abs_left,\n",
        "         abs_top,\n",
        "         all_bold,\n",
        "         all_italic,\n",
        "         all_words_capitalized,\n",
        "         char_count,\n",
        "         first_capitalized,\n",
        "         font_magnitude,\n",
        "         font_size,\n",
        "         font_variety,\n",
        "         has_most_frequent_font,\n",
        "         has_punctuation,\n",
        "         is_roman_number_prefixed,\n",
        "         number_count,\n",
        "         number_prefixed,\n",
        "         word_count FROM problema)\n",
        "         AND heading = 0\n",
        "''')\n",
        "\n",
        "conn.close()"
      ],
      "execution_count": null,
      "outputs": []
    },
    {
      "cell_type": "code",
      "metadata": {
        "id": "exSS4tlay0f_"
      },
      "source": [
        "conn = sqlite3.connect('test.db')\n",
        "\n",
        "db_df = pd.read_sql_query(\"SELECT * FROM dataset\", conn)\n",
        "db_df.to_csv(BASE_GROTOAP2_DIR + 'dataset_final.tsv', encoding='utf-8', index=False, sep=\"\\t\")\n",
        "conn.close()"
      ],
      "execution_count": null,
      "outputs": []
    },
    {
      "cell_type": "code",
      "metadata": {
        "colab": {
          "base_uri": "https://localhost:8080/"
        },
        "id": "OKxdAd5vAQ7P",
        "outputId": "33d90a52-5cbf-4d48-a465-7f37d49dfac5"
      },
      "source": [
        "db_df.columns"
      ],
      "execution_count": null,
      "outputs": [
        {
          "output_type": "execute_result",
          "data": {
            "text/plain": [
              "Index(['has_most_frequent_font', 'font_magnitude', 'font_variety',\n",
              "       'is_roman_number_prefixed', 'above_font_threshold', 'word_count',\n",
              "       'char_count', 'first_capitalized', 'all_words_capitalized',\n",
              "       'all_italic', 'all_bold', 'number_prefixed', 'number_count',\n",
              "       'font_size', 'abs_left', 'has_punctuation', 'abs_top', 'text', 'pmc_id',\n",
              "       'file_name', 'heading', 'line_idx', 'original_title'],\n",
              "      dtype='object')"
            ]
          },
          "metadata": {},
          "execution_count": 74
        }
      ]
    },
    {
      "cell_type": "code",
      "metadata": {
        "colab": {
          "base_uri": "https://localhost:8080/"
        },
        "id": "tcw1B3dyASRM",
        "outputId": "dabf1fb4-f718-4fb2-8692-34684d7a1b60"
      },
      "source": [
        "db_df.dtypes"
      ],
      "execution_count": null,
      "outputs": [
        {
          "output_type": "execute_result",
          "data": {
            "text/plain": [
              "has_most_frequent_font      float64\n",
              "font_magnitude                int64\n",
              "font_variety                  int64\n",
              "is_roman_number_prefixed      int64\n",
              "above_font_threshold          int64\n",
              "word_count                    int64\n",
              "char_count                    int64\n",
              "first_capitalized             int64\n",
              "all_words_capitalized         int64\n",
              "all_italic                    int64\n",
              "all_bold                      int64\n",
              "number_prefixed               int64\n",
              "number_count                  int64\n",
              "font_size                   float64\n",
              "abs_left                    float64\n",
              "has_punctuation               int64\n",
              "abs_top                     float64\n",
              "text                         object\n",
              "pmc_id                       object\n",
              "file_name                    object\n",
              "heading                       int64\n",
              "line_idx                      int64\n",
              "original_title               object\n",
              "dtype: object"
            ]
          },
          "metadata": {},
          "execution_count": 75
        }
      ]
    },
    {
      "cell_type": "markdown",
      "metadata": {
        "id": "osRfRDVS3Cs_"
      },
      "source": [
        "# Treinamento"
      ]
    },
    {
      "cell_type": "markdown",
      "metadata": {
        "id": "xpEviVzz3IbQ"
      },
      "source": [
        "## Criação do conjunto de treinamento e do conjunto de teste"
      ]
    },
    {
      "cell_type": "code",
      "metadata": {
        "id": "gxoF8uXB2rW3"
      },
      "source": [
        "X = db_df[db_df.columns[0:17]]\n",
        "y = db_df[\"heading\"]\n",
        "\n",
        "X = X.astype('float32')\n",
        "y = y.astype('int')\n",
        "\n",
        "X.to_csv(BASE_GROTOAP2_DIR + 'X.tsv', encoding='utf-8', index=False, sep=\"\\t\")\n",
        "y.to_csv(BASE_GROTOAP2_DIR + 'y.tsv', encoding='utf-8', index=False, sep=\"\\t\")"
      ],
      "execution_count": null,
      "outputs": []
    },
    {
      "cell_type": "code",
      "metadata": {
        "id": "l6BGoLed4QAU"
      },
      "source": [
        "del db_df"
      ],
      "execution_count": null,
      "outputs": []
    },
    {
      "cell_type": "code",
      "metadata": {
        "id": "9ps-MPMo2vpI"
      },
      "source": [
        "from sklearn.model_selection import train_test_split\n",
        "X_train, X_test, y_train, y_test = train_test_split(X, y, test_size=0.3, random_state=42)\n",
        "\n",
        "X_train.to_csv(BASE_GROTOAP2_DIR + 'X_train.tsv', encoding='utf-8', index=False, sep=\"\\t\")\n",
        "X_test.to_csv(BASE_GROTOAP2_DIR + 'X_test.tsv', encoding='utf-8', index=False, sep=\"\\t\")\n",
        "y_train.to_csv(BASE_GROTOAP2_DIR + 'y_train.tsv', encoding='utf-8', index=False, sep=\"\\t\")\n",
        "y_test.to_csv(BASE_GROTOAP2_DIR + 'y_test.tsv', encoding='utf-8', index=False, sep=\"\\t\")"
      ],
      "execution_count": null,
      "outputs": []
    },
    {
      "cell_type": "code",
      "metadata": {
        "id": "WRJVuIRf3lKh"
      },
      "source": [
        "from sklearn.preprocessing import StandardScaler\n",
        "from pickle import dump\n",
        "\n",
        "scaler = StandardScaler()\n",
        "\n",
        "scaler.fit(X_train)\n",
        "\n",
        "X_train_s = scaler.transform(X_train)\n",
        "X_test_s = scaler.transform(X_test)\n",
        "\n",
        "X_train_scaled = pd.DataFrame(X_train_s, index=X_train.index, columns=X_train.columns)\n",
        "X_test_scaled = pd.DataFrame(X_test_s, index=X_test.index, columns=X_test.columns)\n",
        "\n",
        "\n",
        "dump(scaler, open(BASE_GROTOAP2_DIR + 'scaler.pkl', 'wb'))"
      ],
      "execution_count": null,
      "outputs": []
    },
    {
      "cell_type": "code",
      "metadata": {
        "id": "XAdUGhVZ1jTe"
      },
      "source": [
        "X_train_scaled.to_csv(BASE_GROTOAP2_DIR + 'X_train_scaled.tsv', encoding='utf-8', index=False, sep=\"\\t\")\n",
        "X_test_scaled.to_csv(BASE_GROTOAP2_DIR + 'X_test_scaled.tsv', encoding='utf-8', index=False, sep=\"\\t\")"
      ],
      "execution_count": null,
      "outputs": []
    },
    {
      "cell_type": "markdown",
      "metadata": {
        "id": "c3mJ85vJ4-oX"
      },
      "source": [
        "## Treinamento"
      ]
    },
    {
      "cell_type": "code",
      "metadata": {
        "id": "199MIjSm5ME5"
      },
      "source": [
        "from sklearn.ensemble import RandomForestClassifier"
      ],
      "execution_count": null,
      "outputs": []
    },
    {
      "cell_type": "code",
      "metadata": {
        "id": "ha1hginD4_Tw"
      },
      "source": [
        "models = [('RandomForestClassifier', RandomForestClassifier()),]"
      ],
      "execution_count": null,
      "outputs": []
    },
    {
      "cell_type": "code",
      "metadata": {
        "id": "tmOYeKeq5W-L",
        "colab": {
          "base_uri": "https://localhost:8080/"
        },
        "outputId": "10a67c5f-f2ff-4ccb-fcfb-8b3280a1e5ff"
      },
      "source": [
        "model = models[0]\n",
        "print('Model ' + model[0])\n",
        "clf = model[1]\n",
        "clf = clf.fit(X_train_scaled.values, y_train.values)\n",
        "dump(clf, open(BASE_GROTOAP2_DIR + model[0] + '_im_scaled.pkl', 'wb'))"
      ],
      "execution_count": null,
      "outputs": [
        {
          "output_type": "stream",
          "name": "stdout",
          "text": [
            "Model RandomForestClassifier\n"
          ]
        }
      ]
    },
    {
      "cell_type": "code",
      "metadata": {
        "colab": {
          "base_uri": "https://localhost:8080/"
        },
        "id": "hdwaA1_k5h3g",
        "outputId": "bf047391-dd3f-4c49-e60a-81ea6aaf4c39"
      },
      "source": [
        "from sklearn.model_selection import cross_val_score, train_test_split, StratifiedKFold\n",
        "from sklearn.metrics import classification_report, accuracy_score, confusion_matrix\n",
        "\n",
        "y_pred = clf.predict(X_test_scaled.values)\n",
        "report = classification_report(y_test.values, y_pred, output_dict=True)\n",
        "recall = report['1']['recall']\n",
        "specificity = report['0']['recall']\n",
        "precision = report['1']['precision']\n",
        "f1_score = report['1']['f1-score']\n",
        "accuracy = accuracy_score(y_test, y_pred)\n",
        "\n",
        "tn, fp, fn, tp = confusion_matrix(y_test, y_pred).ravel()\n",
        "\n",
        "print('**** Resultados ****')\n",
        "print(\"Recall: {:.3f}\".format(recall))\n",
        "print(\"Specificity: {:.3f}\".format(specificity))\n",
        "print(\"Precision: {:.3f}\".format(precision))\n",
        "print(\"f1-score: {:.3f}\".format(f1_score))\n",
        "print(\"Accuracy {:.3f}\".format(accuracy))\n",
        "print('**** Matriz Confusão ****')\n",
        "print('TP: ' + str(tp))\n",
        "print('FP: ' + str(fp))\n",
        "print('FN: ' + str(fn))\n",
        "print('TN: ' + str(tn))\n",
        "\n",
        "print('**** Relatório ****')\n",
        "print(report)\n",
        "\n",
        "kfold = StratifiedKFold(n_splits=10, shuffle=True, random_state=42)\n",
        "#scores = cross_val_score(clf, X, y.values.ravel(), cv=kfold, scoring='f1')\n",
        "scores = cross_val_score(clf, X_train, y_train.values.ravel(), cv=kfold, scoring='f1')\n",
        "\n",
        "print('**** Cross Validation ****')\n",
        "print(scores)\n",
        "print(\"F1 mean: %0.3f (+/- %0.3f)\" % (scores.mean(), scores.std() * 2))"
      ],
      "execution_count": null,
      "outputs": [
        {
          "output_type": "stream",
          "name": "stdout",
          "text": [
            "**** Resultados ****\n",
            "Recall: 0.920\n",
            "Specificity: 0.999\n",
            "Precision: 0.959\n",
            "f1-score: 0.939\n",
            "Accuracy 0.998\n",
            "**** Matriz Confusão ****\n",
            "TP: 25900\n",
            "FP: 1120\n",
            "FN: 2247\n",
            "TN: 1556171\n",
            "**** Relatório ****\n",
            "{'0': {'precision': 0.9985581532040826, 'recall': 0.9992808023677013, 'f1-score': 0.9989193470892178, 'support': 1557291}, '1': {'precision': 0.9585492227979274, 'recall': 0.9201691121611539, 'f1-score': 0.9389671361502347, 'support': 28147}, 'accuracy': 0.9978762966448388, 'macro avg': {'precision': 0.9785536880010051, 'recall': 0.9597249572644276, 'f1-score': 0.9689432416197263, 'support': 1585438}, 'weighted avg': {'precision': 0.9978478565137409, 'recall': 0.9978762966448388, 'f1-score': 0.9978549882929106, 'support': 1585438}}\n",
            "**** Cross Validation ****\n",
            "[0.93983031 0.94382899 0.93883936 0.9326036  0.93705204 0.93952906\n",
            " 0.94164394 0.93917123 0.93898252 0.94163607]\n",
            "F1 mean: 0.939 (+/- 0.006)\n"
          ]
        }
      ]
    }
  ]
}